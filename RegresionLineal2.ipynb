{
 "cells": [
  {
   "cell_type": "code",
   "execution_count": 1,
   "id": "593ca9f7-2316-426a-aff9-a375075c1bfd",
   "metadata": {
    "tags": []
   },
   "outputs": [],
   "source": [
    "# Cargamos librerias .\n",
    "\n",
    "import matplotlib.pyplot as plt\n",
    "from sklearn import linear_model # usando sklear para saber los valores optimos\n",
    "import seaborn as sns\n",
    "import numpy as np\n",
    "import pandas as pd"
   ]
  },
  {
   "cell_type": "code",
   "execution_count": 2,
   "id": "ea971f2f-5c54-4546-9b76-fe43789e96ca",
   "metadata": {
    "tags": []
   },
   "outputs": [],
   "source": [
    "# Cargamos CSV en una variable llamada data\n",
    "\n",
    "data = pd.read_csv(\"C:/AnalisisDatos/data_RL.csv\", sep=\",\")"
   ]
  },
  {
   "cell_type": "code",
   "execution_count": 3,
   "id": "06776070-2cbe-4626-b0ab-6a902241de48",
   "metadata": {
    "tags": []
   },
   "outputs": [
    {
     "data": {
      "text/plain": [
       "<bound method NDFrame.describe of    metro  precio\n",
       "0      5     375\n",
       "1     15     487\n",
       "2     20     450\n",
       "3     25     500>"
      ]
     },
     "execution_count": 3,
     "metadata": {},
     "output_type": "execute_result"
    }
   ],
   "source": [
    "# Exploración de los datos\n",
    "data.columns\n",
    "data.info\n",
    "data.describe"
   ]
  },
  {
   "cell_type": "code",
   "execution_count": 4,
   "id": "e819602a-25e9-4ff9-99e7-9aec0be032a8",
   "metadata": {
    "tags": []
   },
   "outputs": [
    {
     "data": {
      "text/html": [
       "<div>\n",
       "<style scoped>\n",
       "    .dataframe tbody tr th:only-of-type {\n",
       "        vertical-align: middle;\n",
       "    }\n",
       "\n",
       "    .dataframe tbody tr th {\n",
       "        vertical-align: top;\n",
       "    }\n",
       "\n",
       "    .dataframe thead th {\n",
       "        text-align: right;\n",
       "    }\n",
       "</style>\n",
       "<table border=\"1\" class=\"dataframe\">\n",
       "  <thead>\n",
       "    <tr style=\"text-align: right;\">\n",
       "      <th></th>\n",
       "      <th>metro</th>\n",
       "      <th>precio</th>\n",
       "    </tr>\n",
       "  </thead>\n",
       "  <tbody>\n",
       "    <tr>\n",
       "      <th>0</th>\n",
       "      <td>5</td>\n",
       "      <td>375</td>\n",
       "    </tr>\n",
       "    <tr>\n",
       "      <th>1</th>\n",
       "      <td>15</td>\n",
       "      <td>487</td>\n",
       "    </tr>\n",
       "    <tr>\n",
       "      <th>2</th>\n",
       "      <td>20</td>\n",
       "      <td>450</td>\n",
       "    </tr>\n",
       "    <tr>\n",
       "      <th>3</th>\n",
       "      <td>25</td>\n",
       "      <td>500</td>\n",
       "    </tr>\n",
       "  </tbody>\n",
       "</table>\n",
       "</div>"
      ],
      "text/plain": [
       "   metro  precio\n",
       "0      5     375\n",
       "1     15     487\n",
       "2     20     450\n",
       "3     25     500"
      ]
     },
     "execution_count": 4,
     "metadata": {},
     "output_type": "execute_result"
    }
   ],
   "source": [
    "# Visualizamos los datos del archivo CSV\n",
    "data"
   ]
  },
  {
   "cell_type": "code",
   "execution_count": 5,
   "id": "502dc89d-c643-41cf-aa9d-9492ee577f91",
   "metadata": {
    "tags": []
   },
   "outputs": [
    {
     "data": {
      "image/png": "[encoded data removed]",
      "text/plain": [
       "<Figure size 640x480 with 1 Axes>"
      ]
     },
     "metadata": {},
     "output_type": "display_data"
    }
   ],
   "source": [
    "#Realizo la grafica de dispersión\n",
    "data.plot.scatter(x=\"metro\", y=\"precio\")\n",
    "plt.show()"
   ]
  },
  {
   "cell_type": "code",
   "execution_count": 6,
   "id": "1b186887-8d8b-4e56-bb37-8fa9b4f99532",
   "metadata": {
    "tags": []
   },
   "outputs": [],
   "source": [
    "regresion = linear_model.LinearRegression()"
   ]
  },
  {
   "cell_type": "code",
   "execution_count": 7,
   "id": "1aaf8753-e968-4f79-8f6d-86268dc7ae08",
   "metadata": {
    "tags": []
   },
   "outputs": [],
   "source": [
    "#Agrego los datos en un array o vector\n",
    "meter = data[\"metro\"].values.reshape((-1,1))"
   ]
  },
  {
   "cell_type": "code",
   "execution_count": 9,
   "id": "e86d0d9d-3e74-46e1-bdf2-283b9c4bcf6a",
   "metadata": {
    "tags": []
   },
   "outputs": [],
   "source": [
    "#Ahora si creamos el modelo\n",
    "modelo = regresion.fit(meter, data[\"precio\"])"
   ]
  },
  {
   "cell_type": "code",
   "execution_count": 10,
   "id": "e01db8da-f74c-4afb-b138-b2193c062e39",
   "metadata": {
    "tags": []
   },
   "outputs": [
    {
     "name": "stdout",
     "output_type": "stream",
     "text": [
      "Interseccion (b) 361.25714285714287\n",
      "Pendiente (m) [5.64571429]\n"
     ]
    }
   ],
   "source": [
    "print(\"Interseccion (b)\", modelo.intercept_)\n",
    "#imprimos la pendiente\n",
    "print(\"Pendiente (m)\", modelo.coef_)"
   ]
  },
  {
   "cell_type": "code",
   "execution_count": 11,
   "id": "9faa16af-408d-4d9a-9823-d2bd94f15e95",
   "metadata": {
    "tags": []
   },
   "outputs": [
    {
     "name": "stdout",
     "output_type": "stream",
     "text": [
      "[389.48571429 417.71428571 445.94285714 502.4       ]\n"
     ]
    }
   ],
   "source": [
    "#validar el modelo y su error\n",
    "entrada= [[5],[10],[15],[25]]\n",
    "predicciones = modelo.predict(entrada)\n",
    "print(predicciones)"
   ]
  },
  {
   "cell_type": "code",
   "execution_count": 12,
   "id": "7e7f36e6-3370-4883-b7dc-7561138341ba",
   "metadata": {
    "tags": []
   },
   "outputs": [
    {
     "data": {
      "image/png": "[encoded data removed]",
      "text/plain": [
       "<Figure size 640x480 with 1 Axes>"
      ]
     },
     "metadata": {},
     "output_type": "display_data"
    }
   ],
   "source": [
    "#Se compara los puntos de la predicción con los valores reales\n",
    "data.plot.scatter(x=\"metro\", y=\"precio\", label='Datos Iniciales')\n",
    "plt.scatter(entrada, predicciones, color='yellow')\n",
    "plt.plot(entrada, predicciones, color='red', label='Línea de regresión')\n",
    "plt.xlabel('metro')\n",
    "plt.ylabel('precio')\n",
    "plt.legend()\n",
    "plt.show()"
   ]
  },
  {
   "cell_type": "code",
   "execution_count": 15,
   "id": "8e3a0093-b0f2-4591-9af2-4f03691671ff",
   "metadata": {
    "tags": []
   },
   "outputs": [
    {
     "data": {
      "text/html": [
       "<div>\n",
       "<style scoped>\n",
       "    .dataframe tbody tr th:only-of-type {\n",
       "        vertical-align: middle;\n",
       "    }\n",
       "\n",
       "    .dataframe tbody tr th {\n",
       "        vertical-align: top;\n",
       "    }\n",
       "\n",
       "    .dataframe thead th {\n",
       "        text-align: right;\n",
       "    }\n",
       "</style>\n",
       "<table border=\"1\" class=\"dataframe\">\n",
       "  <thead>\n",
       "    <tr style=\"text-align: right;\">\n",
       "      <th></th>\n",
       "      <th>metro</th>\n",
       "      <th>precio</th>\n",
       "      <th>prediccion</th>\n",
       "      <th>error</th>\n",
       "    </tr>\n",
       "  </thead>\n",
       "  <tbody>\n",
       "    <tr>\n",
       "      <th>0</th>\n",
       "      <td>5</td>\n",
       "      <td>375</td>\n",
       "      <td>389.485714</td>\n",
       "      <td>14.485714</td>\n",
       "    </tr>\n",
       "    <tr>\n",
       "      <th>1</th>\n",
       "      <td>15</td>\n",
       "      <td>487</td>\n",
       "      <td>417.714286</td>\n",
       "      <td>-69.285714</td>\n",
       "    </tr>\n",
       "    <tr>\n",
       "      <th>2</th>\n",
       "      <td>20</td>\n",
       "      <td>450</td>\n",
       "      <td>445.942857</td>\n",
       "      <td>-4.057143</td>\n",
       "    </tr>\n",
       "    <tr>\n",
       "      <th>3</th>\n",
       "      <td>25</td>\n",
       "      <td>500</td>\n",
       "      <td>502.400000</td>\n",
       "      <td>2.400000</td>\n",
       "    </tr>\n",
       "  </tbody>\n",
       "</table>\n",
       "</div>"
      ],
      "text/plain": [
       "   metro  precio  prediccion      error\n",
       "0      5     375  389.485714  14.485714\n",
       "1     15     487  417.714286 -69.285714\n",
       "2     20     450  445.942857  -4.057143\n",
       "3     25     500  502.400000   2.400000"
      ]
     },
     "execution_count": 15,
     "metadata": {},
     "output_type": "execute_result"
    }
   ],
   "source": [
    "#Comparamos los valores de las predicciones con los reales\n",
    "data['prediccion'] = predicciones\n",
    "data['error'] = predicciones - data['precio']\n",
    "\n",
    "data.head()\n",
    "\n"
   ]
  },
  {
   "cell_type": "code",
   "execution_count": null,
   "id": "152303cd-1517-4d32-b772-e3c7b9229bac",
   "metadata": {},
   "outputs": [],
   "source": []
  }
 ],
 "metadata": {
  "kernelspec": {
   "display_name": "Python 3 (ipykernel)",
   "language": "python",
   "name": "python3"
  },
  "language_info": {
   "codemirror_mode": {
    "name": "ipython",
    "version": 3
   },
   "file_extension": ".py",
   "mimetype": "text/x-python",
   "name": "python",
   "nbconvert_exporter": "python",
   "pygments_lexer": "ipython3",
   "version": "3.11.4"
  }
 },
 "nbformat": 4,
 "nbformat_minor": 5
}
